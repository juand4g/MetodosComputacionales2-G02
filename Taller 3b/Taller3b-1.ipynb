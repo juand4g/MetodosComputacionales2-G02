{
 "cells": [
  {
   "cell_type": "code",
   "execution_count": null,
   "metadata": {
    "colab": {
     "base_uri": "https://localhost:8080/"
    },
    "executionInfo": {
     "elapsed": 981,
     "status": "ok",
     "timestamp": 1740948180877,
     "user": {
      "displayName": "Yeiferson Camacho (Spidey)",
      "userId": "12409045990532006292"
     },
     "user_tz": 300
    },
    "id": "99v1BRthaNqF",
    "outputId": "79b2b293-dac8-4f7d-ba26-c6833d048f06"
   },
   "outputs": [],
   "source": [
    "import numpy as np\n",
    "import matplotlib.pyplot as plt\n",
    "from mpl_toolkits.mplot3d import Axes3D\n",
    "from numba import njit\n",
    "import matplotlib.colors as mcolors\n",
    "import matplotlib.cm as cm\n",
    "\n",
    "# Parámetros de la malla\n",
    "N = 100  # Número de puntos en cada dirección\n",
    "h = 2.0 / (N - 1)  # Tamaño de celda (cubre [-1.1, 1.1])\n",
    "\n",
    "# Crear la malla\n",
    "x = np.linspace(-1.1, 1.1, N)\n",
    "y = np.linspace(-1.1, 1.1, N)\n",
    "X, Y = np.meshgrid(x, y)\n",
    "\n",
    "# Función de densidad de carga\n",
    "rho = -X - Y\n",
    "\n",
    "# Inicializar phi con valores aleatorios en el interior del disco\n",
    "phi = np.random.rand(N, N) * 0.1\n",
    "\n",
    "# Aplicar condiciones de frontera\n",
    "R = np.sqrt(X**2 + Y**2)\n",
    "Theta = np.arctan2(Y, X)\n",
    "phi[R >= 1] = np.sin(7 * Theta[R >= 1])\n",
    "\n",
    "# Iteraciones del método de relajación\n",
    "max_iter = 15000\n",
    "tol = 1e-4\n",
    "\n",
    "@njit\n",
    "def relajacion(phi, rho, R, h, max_iter, tol, N):\n",
    "    for k in range(max_iter):\n",
    "        phi_old = phi.copy()\n",
    "        for i in range(1, N-1):\n",
    "            for j in range(1, N-1):\n",
    "                if R[i, j] < 1:  # Solo actualizamos dentro del disco\n",
    "                    phi[i, j] = 0.25 * (phi[i+1, j] + phi[i-1, j] + phi[i, j+1] + phi[i, j-1] - h**2 * (-4 * np.pi * rho[i, j]))\n",
    "        if np.sum(np.abs(phi - phi_old)) < tol:\n",
    "            print(f'Convergencia alcanzada en {k+1} iteraciones')\n",
    "            break\n",
    "    return phi\n",
    "\n",
    "# Ejecutar el método de relajación\n",
    "phi = relajacion(phi, rho, R, h, max_iter, tol, N)\n"
   ]
  },
  {
   "cell_type": "code",
   "execution_count": null,
   "metadata": {
    "colab": {
     "base_uri": "https://localhost:8080/",
     "height": 538
    },
    "executionInfo": {
     "elapsed": 1821,
     "status": "ok",
     "timestamp": 1740948183894,
     "user": {
      "displayName": "Yeiferson Camacho (Spidey)",
      "userId": "12409045990532006292"
     },
     "user_tz": 300
    },
    "id": "5WAroB5RcfOO",
    "outputId": "ab3d83b5-21f9-459a-93d4-ae684a633d19"
   },
   "outputs": [],
   "source": [
    "# Crear la figura y el subplot 3D\n",
    "fig = plt.figure(figsize=(12, 10))\n",
    "ax = fig.add_subplot(121, projection='3d')\n",
    "\n",
    "# Usar un colormap que vaya de violeta a rojo\n",
    "cmap = cm.get_cmap(\"plasma\")\n",
    "norm = mcolors.Normalize(vmin=np.min(phi), vmax=np.max(phi))\n",
    "\n",
    "# Graficar la superficie\n",
    "surf = ax.plot_surface(X, Y, phi, cmap=cmap, norm=norm)\n",
    "ax.set_xlabel(\"X\")\n",
    "ax.set_ylabel(\"Y\")\n",
    "ax.set_zlabel(\"Φ(X, Y)\")\n",
    "ax.set_title(\"Solución de la Ecuación de Poisson\")\n",
    "\n",
    "plt.savefig('1.png')\n",
    "plt.show()"
   ]
  },
  {
   "cell_type": "code",
   "execution_count": null,
   "metadata": {
    "id": "ne3OX_EAba8E"
   },
   "outputs": [],
   "source": []
  }
 ],
 "metadata": {
  "colab": {
   "authorship_tag": "ABX9TyNSJkwVcinq2d30nv3Ewzqx",
   "provenance": []
  },
  "kernelspec": {
   "display_name": "Python 3",
   "name": "python3"
  },
  "language_info": {
   "codemirror_mode": {
    "name": "ipython",
    "version": 3
   },
   "file_extension": ".py",
   "mimetype": "text/x-python",
   "name": "python",
   "nbconvert_exporter": "python",
   "pygments_lexer": "ipython3",
   "version": "3.11.9"
  }
 },
 "nbformat": 4,
 "nbformat_minor": 0
}
