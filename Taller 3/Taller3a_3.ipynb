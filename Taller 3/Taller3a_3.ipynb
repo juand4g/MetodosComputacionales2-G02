{
 "cells": [
  {
   "cell_type": "code",
   "execution_count": null,
   "metadata": {
    "executionInfo": {
     "elapsed": 7,
     "status": "ok",
     "timestamp": 1740956988820,
     "user": {
      "displayName": "Yeiferson Camacho (Spidey)",
      "userId": "12409045990532006292"
     },
     "user_tz": 300
    },
    "id": "XPz-vC9pLW39"
   },
   "outputs": [],
   "source": [
    "import numpy as np\n",
    "from scipy.integrate import solve_ivp\n",
    "import matplotlib.pyplot as plt\n",
    "from matplotlib.animation import FuncAnimation\n",
    "from scipy.signal import argrelextrema\n",
    "from numba import njit\n",
    "plt.rcParams[\"animation.html\"] = \"jshtml\""
   ]
  },
  {
   "cell_type": "code",
   "execution_count": null,
   "metadata": {
    "executionInfo": {
     "elapsed": 20,
     "status": "ok",
     "timestamp": 1740957170699,
     "user": {
      "displayName": "Yeiferson Camacho (Spidey)",
      "userId": "12409045990532006292"
     },
     "user_tz": 300
    },
    "id": "M5ADAmg2LZDD"
   },
   "outputs": [],
   "source": [
    "# Constantes\n",
    "mu = 39.4234021  #Parámetro gravitacional en AU^3/Year^2\n",
    "\n",
    "# Parámetros orbitales de Mercurio\n",
    "a = 0.38709893  # Semieje mayor en UA\n",
    "e = 0.20563069  # Excentricidad\n",
    "\n",
    "# Condiciones inicial\n",
    "x0 = a * (1 + e)  # x(t=0)\n",
    "y0 = 0.0         # y(t=0)\n",
    "\n",
    "# Velocidad inicial\n",
    "v_y0 = np.sqrt(mu / a) * np.sqrt((1 - e) / (1 + e))\n",
    "v_x0 = 0.0\n",
    "\n",
    "# Parámetro relativista α\n",
    "alpha = 1.09778201e-8  # Valor real en AU^2\n",
    "\n",
    "# Tiempo de simulación\n",
    "t_span = (0, 10)  # Simulación durante 10 años\n",
    "t_paso = np.linspace(t_span[0], t_span[1], int(2e4))  # Resolución temporal"
   ]
  },
  {
   "cell_type": "code",
   "execution_count": null,
   "metadata": {
    "executionInfo": {
     "elapsed": 6,
     "status": "ok",
     "timestamp": 1740957171446,
     "user": {
      "displayName": "Yeiferson Camacho (Spidey)",
      "userId": "12409045990532006292"
     },
     "user_tz": 300
    },
    "id": "5CrQFdMCLfPs"
   },
   "outputs": [],
   "source": [
    "\n",
    "def EDO(t, state):\n",
    "    \"\"\"\n",
    "    Define las ecuaciones diferenciales del sistema.\n",
    "    state = [x, y, vx, vy]\n",
    "    \"\"\"\n",
    "    x, y, vx, vy = state\n",
    "    r = np.sqrt(x**2 + y**2)  # Distancia al Sol\n",
    "    r_dir = np.array([x, y]) / r  # Vector unitario radial\n",
    "\n",
    "    # Fuerza gravitacional con corrección relativista\n",
    "    a = -(mu / r**2) * (1 + alpha / r**2)\n",
    "\n",
    "    # Aceleración\n",
    "    ax = a * r_dir[0]\n",
    "    ay = a * r_dir[1]\n",
    "\n",
    "    return [vx, vy, ax, ay]"
   ]
  },
  {
   "cell_type": "code",
   "execution_count": null,
   "metadata": {
    "executionInfo": {
     "elapsed": 408,
     "status": "ok",
     "timestamp": 1740957172862,
     "user": {
      "displayName": "Yeiferson Camacho (Spidey)",
      "userId": "12409045990532006292"
     },
     "user_tz": 300
    },
    "id": "Ygdm7tQoLhpZ"
   },
   "outputs": [],
   "source": [
    "# Condiciones iniciales\n",
    "c_iniciales = [x0, y0, v_x0, v_y0]\n",
    "\n",
    "# Resolver las ecuaciones diferenciales\n",
    "\n",
    "solucion = solve_ivp(\n",
    "    EDO,\n",
    "    t_span=t_span,\n",
    "    y0=c_iniciales,\n",
    "    t_eval=t_paso,\n",
    "    method=\"RK45\",\n",
    "    rtol=1e-8,\n",
    "    atol=1e-8\n",
    ")\n",
    "\n",
    "# Extraer resultados\n",
    "x = solucion.y[0]\n",
    "y = solucion.y[1]\n",
    "vx = solucion.y[2]\n",
    "vy = solucion.y[3]\n",
    "t = solucion.t\n"
   ]
  },
  {
   "cell_type": "code",
   "execution_count": null,
   "metadata": {
    "executionInfo": {
     "elapsed": 207,
     "status": "ok",
     "timestamp": 1740957052159,
     "user": {
      "displayName": "Yeiferson Camacho (Spidey)",
      "userId": "12409045990532006292"
     },
     "user_tz": 300
    },
    "id": "AzSt3RKDLjFk"
   },
   "outputs": [],
   "source": [
    "%%capture\n",
    "# Crear la figura y los ejes\n",
    "fig, ax = plt.subplots()\n",
    "plt.title(\"Precesión de Mercurio\")\n",
    "plt.scatter([0], [0], color='yellow', label=\"Sol\")  # Marcar el Sol\n",
    "ax.set_xlim(-0.5, 0.5)  # Límites del eje x\n",
    "ax.set_ylim(-0.5, 0.5)  # Límites del eje y\n",
    "ax.set_aspect('equal')  # Aspecto igual para x e y\n",
    "\n",
    "# Crear la línea para la trayectoria\n",
    "line, = ax.plot([], [], lw=2, label=\"Órbita de Mercurio\")\n",
    "\n",
    "# Crear el punto para la posición actual\n",
    "point, = ax.plot([], [], 'ro', label=\"Mercurio\")\n",
    "\n",
    "# Añadir leyenda\n",
    "plt.legend(loc=\"upper left\")"
   ]
  },
  {
   "cell_type": "code",
   "execution_count": null,
   "metadata": {
    "executionInfo": {
     "elapsed": 1032,
     "status": "ok",
     "timestamp": 1740957055383,
     "user": {
      "displayName": "Yeiferson Camacho (Spidey)",
      "userId": "12409045990532006292"
     },
     "user_tz": 300
    },
    "id": "f_oZvBBLLlRj"
   },
   "outputs": [],
   "source": [
    "# Función de inicialización\n",
    "def init():\n",
    "    line.set_data([], [])  # Línea vacía\n",
    "    point.set_data([], [])  # Punto vacío\n",
    "    return line, point\n",
    "\n",
    "step = 20  # Muestra 1 de cada 10 puntos\n",
    "t_anim = t[::step]\n",
    "x_anim = x[::step]\n",
    "y_anim = y[::step]\n",
    "# Función de actualización\n",
    "def animate(i):\n",
    "    # Actualizar la línea con los datos hasta el cuadro i\n",
    "    line.set_data(x_anim[:i], y_anim[:i])\n",
    "\n",
    "    # Actualizar el punto con la posición actual\n",
    "    point.set_data([x_anim[i-1]], [y_anim[i-1]])\n",
    "\n",
    "    return line, point\n",
    "\n",
    "# Crear la animación\n",
    "ani = FuncAnimation(\n",
    "    fig,                # Figura\n",
    "    animate,            # Función de actualización\n",
    "    frames=len(t_anim),      # Número de cuadros\n",
    "    init_func=init,     # Función de inicialización\n",
    "    blit=True,           # Optimización\n",
    ")\n",
    "\n",
    "# Guardar la animación como un archivo mp4\n",
    "ani.save(\"3.a.mp4\")"
   ]
  },
  {
   "cell_type": "code",
   "execution_count": null,
   "metadata": {
    "colab": {
     "base_uri": "https://localhost:8080/",
     "height": 602
    },
    "executionInfo": {
     "elapsed": 613,
     "status": "ok",
     "timestamp": 1740957562049,
     "user": {
      "displayName": "Yeiferson Camacho (Spidey)",
      "userId": "12409045990532006292"
     },
     "user_tz": 300
    },
    "id": "U4LpsAKmkfMc",
    "outputId": "929d0916-54a2-4ad3-de83-adfb21ae28b9"
   },
   "outputs": [],
   "source": [
    "# Calcular ángulo theta en radianes\n",
    "theta = np.arctan2(y, x)\n",
    "\n",
    "# Identificar periastros (mínimos en r)\n",
    "r = np.sqrt(x**2 + y**2)\n",
    "peri_idx = argrelextrema(r, np.less)[0]\n",
    "theta_peri = theta[peri_idx]\n",
    "t_peri = t[peri_idx]\n",
    "\n",
    "# Convertir ángulos a arcosegundos\n",
    "theta_peri_arcsec = np.mod(np.unwrap(theta_peri) * (3600 * 180 / np.pi),3600*360)\n",
    "\n",
    "# Ajuste lineal\n",
    "(m, b), cov = np.polyfit(t_peri, theta_peri_arcsec, 1, cov=True)\n",
    "\n",
    "# Extraer incertidumbre (desviación estándar) de la pendiente y la intersección\n",
    "m_err = np.sqrt(cov[0, 0])  # Incertidumbre en la pendiente\n",
    "b_err = np.sqrt(cov[1, 1])  # Incertidumbre en la intersección\n",
    "\n",
    "# Graficar\n",
    "plt.figure(figsize=(8, 6))\n",
    "plt.scatter(t_peri, theta_peri_arcsec, label=\"Datos\", color=\"C0\")\n",
    "plt.plot(t_peri, m * t_peri + b, \"--\", label=f\"Ajuste lineal: {m:.2f} ± {m_err:.2f} arcsec/siglo\", color=\"orange\")\n",
    "plt.xlabel(\"Tiempo (años)\")\n",
    "plt.ylabel(\"Ángulo del periastro (arcsec)\")\n",
    "plt.title(\"Precesión del periastro de Mercurio\")\n",
    "plt.legend()\n",
    "plt.savefig(\"3.b.pdf\")\n",
    "plt.show()\n",
    "\n",
    "# Mostrar la pendiente calculada\n",
    "print(f\" Se calculó una precesión para el periastro de {m:.2f} ± {m_err:.2f} arcsec/siglo. Así, basado en la literatura de una precesión de 42.9799 arc/siglo, se puede ver que hay un error porcentual de al menos 13,2%\")"
   ]
  },
  {
   "cell_type": "code",
   "execution_count": null,
   "metadata": {
    "id": "qN_vr1zJ7S-f"
   },
   "outputs": [],
   "source": []
  }
 ],
 "metadata": {
  "colab": {
   "authorship_tag": "ABX9TyM+0J37aNFD9Po0gnN40YSe",
   "provenance": []
  },
  "kernelspec": {
   "display_name": "Python 3",
   "name": "python3"
  },
  "language_info": {
   "codemirror_mode": {
    "name": "ipython",
    "version": 3
   },
   "file_extension": ".py",
   "mimetype": "text/x-python",
   "name": "python",
   "nbconvert_exporter": "python",
   "pygments_lexer": "ipython3",
   "version": "3.11.9"
  }
 },
 "nbformat": 4,
 "nbformat_minor": 0
}
